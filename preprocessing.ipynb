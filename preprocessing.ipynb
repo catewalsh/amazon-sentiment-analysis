{
 "cells": [
  {
   "cell_type": "code",
   "execution_count": 1,
   "metadata": {},
   "outputs": [],
   "source": [
    "import pandas as pd\n",
    "from pandas import concat\n",
    "import numpy as np\n",
    "from sklearn.model_selection import train_test_split\n",
    "from sklearn.feature_extraction.text import TfidfVectorizer\n",
    "import pickle\n",
    "from nltk.tokenize.toktok import ToktokTokenizer\n",
    "import cleantext\n",
    "from contractions import CONTRACTION_MAP\n",
    "from stopwords import STOPWORD_MAP"
   ]
  },
  {
   "cell_type": "code",
   "execution_count": 2,
   "metadata": {},
   "outputs": [],
   "source": [
    "unprocessed_df = pd.read_csv(\"data/reviews.csv\")"
   ]
  },
  {
   "cell_type": "code",
   "execution_count": 3,
   "metadata": {},
   "outputs": [
    {
     "data": {
      "text/html": [
       "<div>\n",
       "<style scoped>\n",
       "    .dataframe tbody tr th:only-of-type {\n",
       "        vertical-align: middle;\n",
       "    }\n",
       "\n",
       "    .dataframe tbody tr th {\n",
       "        vertical-align: top;\n",
       "    }\n",
       "\n",
       "    .dataframe thead th {\n",
       "        text-align: right;\n",
       "    }\n",
       "</style>\n",
       "<table border=\"1\" class=\"dataframe\">\n",
       "  <thead>\n",
       "    <tr style=\"text-align: right;\">\n",
       "      <th></th>\n",
       "      <th>Id</th>\n",
       "      <th>Score</th>\n",
       "      <th>Text</th>\n",
       "    </tr>\n",
       "  </thead>\n",
       "  <tbody>\n",
       "    <tr>\n",
       "      <th>0</th>\n",
       "      <td>1</td>\n",
       "      <td>5</td>\n",
       "      <td>I have bought several of the Vitality canned d...</td>\n",
       "    </tr>\n",
       "    <tr>\n",
       "      <th>1</th>\n",
       "      <td>2</td>\n",
       "      <td>1</td>\n",
       "      <td>Product arrived labeled as Jumbo Salted Peanut...</td>\n",
       "    </tr>\n",
       "    <tr>\n",
       "      <th>2</th>\n",
       "      <td>3</td>\n",
       "      <td>4</td>\n",
       "      <td>This is a confection that has been around a fe...</td>\n",
       "    </tr>\n",
       "    <tr>\n",
       "      <th>3</th>\n",
       "      <td>4</td>\n",
       "      <td>2</td>\n",
       "      <td>If you are looking for the secret ingredient i...</td>\n",
       "    </tr>\n",
       "    <tr>\n",
       "      <th>4</th>\n",
       "      <td>5</td>\n",
       "      <td>5</td>\n",
       "      <td>Great taffy at a great price.  There was a wid...</td>\n",
       "    </tr>\n",
       "  </tbody>\n",
       "</table>\n",
       "</div>"
      ],
      "text/plain": [
       "   Id  Score                                               Text\n",
       "0   1      5  I have bought several of the Vitality canned d...\n",
       "1   2      1  Product arrived labeled as Jumbo Salted Peanut...\n",
       "2   3      4  This is a confection that has been around a fe...\n",
       "3   4      2  If you are looking for the secret ingredient i...\n",
       "4   5      5  Great taffy at a great price.  There was a wid..."
      ]
     },
     "execution_count": 3,
     "metadata": {},
     "output_type": "execute_result"
    }
   ],
   "source": [
    "unprocessed_df.head(5)"
   ]
  },
  {
   "cell_type": "code",
   "execution_count": 4,
   "metadata": {},
   "outputs": [
    {
     "data": {
      "text/html": [
       "<div>\n",
       "<style scoped>\n",
       "    .dataframe tbody tr th:only-of-type {\n",
       "        vertical-align: middle;\n",
       "    }\n",
       "\n",
       "    .dataframe tbody tr th {\n",
       "        vertical-align: top;\n",
       "    }\n",
       "\n",
       "    .dataframe thead th {\n",
       "        text-align: right;\n",
       "    }\n",
       "</style>\n",
       "<table border=\"1\" class=\"dataframe\">\n",
       "  <thead>\n",
       "    <tr style=\"text-align: right;\">\n",
       "      <th></th>\n",
       "      <th>Id</th>\n",
       "      <th>Score</th>\n",
       "    </tr>\n",
       "  </thead>\n",
       "  <tbody>\n",
       "    <tr>\n",
       "      <th>count</th>\n",
       "      <td>568454.000000</td>\n",
       "      <td>568454.000000</td>\n",
       "    </tr>\n",
       "    <tr>\n",
       "      <th>mean</th>\n",
       "      <td>284227.500000</td>\n",
       "      <td>4.183199</td>\n",
       "    </tr>\n",
       "    <tr>\n",
       "      <th>std</th>\n",
       "      <td>164098.679298</td>\n",
       "      <td>1.310436</td>\n",
       "    </tr>\n",
       "    <tr>\n",
       "      <th>min</th>\n",
       "      <td>1.000000</td>\n",
       "      <td>1.000000</td>\n",
       "    </tr>\n",
       "    <tr>\n",
       "      <th>25%</th>\n",
       "      <td>142114.250000</td>\n",
       "      <td>4.000000</td>\n",
       "    </tr>\n",
       "    <tr>\n",
       "      <th>50%</th>\n",
       "      <td>284227.500000</td>\n",
       "      <td>5.000000</td>\n",
       "    </tr>\n",
       "    <tr>\n",
       "      <th>75%</th>\n",
       "      <td>426340.750000</td>\n",
       "      <td>5.000000</td>\n",
       "    </tr>\n",
       "    <tr>\n",
       "      <th>max</th>\n",
       "      <td>568454.000000</td>\n",
       "      <td>5.000000</td>\n",
       "    </tr>\n",
       "  </tbody>\n",
       "</table>\n",
       "</div>"
      ],
      "text/plain": [
       "                  Id          Score\n",
       "count  568454.000000  568454.000000\n",
       "mean   284227.500000       4.183199\n",
       "std    164098.679298       1.310436\n",
       "min         1.000000       1.000000\n",
       "25%    142114.250000       4.000000\n",
       "50%    284227.500000       5.000000\n",
       "75%    426340.750000       5.000000\n",
       "max    568454.000000       5.000000"
      ]
     },
     "execution_count": 4,
     "metadata": {},
     "output_type": "execute_result"
    }
   ],
   "source": [
    "unprocessed_df.describe()"
   ]
  },
  {
   "cell_type": "code",
   "execution_count": 5,
   "metadata": {},
   "outputs": [
    {
     "data": {
      "text/html": [
       "<div>\n",
       "<style scoped>\n",
       "    .dataframe tbody tr th:only-of-type {\n",
       "        vertical-align: middle;\n",
       "    }\n",
       "\n",
       "    .dataframe tbody tr th {\n",
       "        vertical-align: top;\n",
       "    }\n",
       "\n",
       "    .dataframe thead th {\n",
       "        text-align: right;\n",
       "    }\n",
       "</style>\n",
       "<table border=\"1\" class=\"dataframe\">\n",
       "  <thead>\n",
       "    <tr style=\"text-align: right;\">\n",
       "      <th></th>\n",
       "      <th>Id</th>\n",
       "      <th>Text</th>\n",
       "    </tr>\n",
       "    <tr>\n",
       "      <th>Score</th>\n",
       "      <th></th>\n",
       "      <th></th>\n",
       "    </tr>\n",
       "  </thead>\n",
       "  <tbody>\n",
       "    <tr>\n",
       "      <th>1</th>\n",
       "      <td>52268</td>\n",
       "      <td>52268</td>\n",
       "    </tr>\n",
       "    <tr>\n",
       "      <th>2</th>\n",
       "      <td>29769</td>\n",
       "      <td>29769</td>\n",
       "    </tr>\n",
       "    <tr>\n",
       "      <th>3</th>\n",
       "      <td>42640</td>\n",
       "      <td>42640</td>\n",
       "    </tr>\n",
       "    <tr>\n",
       "      <th>4</th>\n",
       "      <td>80655</td>\n",
       "      <td>80655</td>\n",
       "    </tr>\n",
       "    <tr>\n",
       "      <th>5</th>\n",
       "      <td>363122</td>\n",
       "      <td>363122</td>\n",
       "    </tr>\n",
       "  </tbody>\n",
       "</table>\n",
       "</div>"
      ],
      "text/plain": [
       "           Id    Text\n",
       "Score                \n",
       "1       52268   52268\n",
       "2       29769   29769\n",
       "3       42640   42640\n",
       "4       80655   80655\n",
       "5      363122  363122"
      ]
     },
     "execution_count": 5,
     "metadata": {},
     "output_type": "execute_result"
    }
   ],
   "source": [
    "unprocessed_df.groupby(\"Score\").count()"
   ]
  },
  {
   "cell_type": "markdown",
   "metadata": {},
   "source": [
    "## Convert scores into positive or negative"
   ]
  },
  {
   "cell_type": "code",
   "execution_count": 6,
   "metadata": {},
   "outputs": [],
   "source": [
    "# delete Id column\n",
    "processed_df = unprocessed_df.drop(columns = \"Id\")\n",
    "\n",
    "# convert score to pos/neg, get rid of 3s\n",
    "def convert_score(df):\n",
    "    df = df.drop(df[df['Score']==3].index)\n",
    "    sentiment_dict = {1:0, 2:0, 4:1, 5:1}\n",
    "    df[\"Sentiment\"] = df[\"Score\"].map(sentiment_dict)\n",
    "    df = df.drop(columns = \"Score\")\n",
    "    return df"
   ]
  },
  {
   "cell_type": "code",
   "execution_count": 7,
   "metadata": {},
   "outputs": [
    {
     "data": {
      "text/html": [
       "<div>\n",
       "<style scoped>\n",
       "    .dataframe tbody tr th:only-of-type {\n",
       "        vertical-align: middle;\n",
       "    }\n",
       "\n",
       "    .dataframe tbody tr th {\n",
       "        vertical-align: top;\n",
       "    }\n",
       "\n",
       "    .dataframe thead th {\n",
       "        text-align: right;\n",
       "    }\n",
       "</style>\n",
       "<table border=\"1\" class=\"dataframe\">\n",
       "  <thead>\n",
       "    <tr style=\"text-align: right;\">\n",
       "      <th></th>\n",
       "      <th>Text</th>\n",
       "    </tr>\n",
       "    <tr>\n",
       "      <th>Sentiment</th>\n",
       "      <th></th>\n",
       "    </tr>\n",
       "  </thead>\n",
       "  <tbody>\n",
       "    <tr>\n",
       "      <th>0</th>\n",
       "      <td>82037</td>\n",
       "    </tr>\n",
       "    <tr>\n",
       "      <th>1</th>\n",
       "      <td>443777</td>\n",
       "    </tr>\n",
       "  </tbody>\n",
       "</table>\n",
       "</div>"
      ],
      "text/plain": [
       "             Text\n",
       "Sentiment        \n",
       "0           82037\n",
       "1          443777"
      ]
     },
     "execution_count": 7,
     "metadata": {},
     "output_type": "execute_result"
    }
   ],
   "source": [
    "processed_df = convert_score(processed_df)\n",
    "processed_df.groupby(\"Sentiment\").count()"
   ]
  },
  {
   "cell_type": "markdown",
   "metadata": {},
   "source": [
    "## Create dataframe with negative and positive reviews"
   ]
  },
  {
   "cell_type": "code",
   "execution_count": 8,
   "metadata": {},
   "outputs": [],
   "source": [
    "# neg reviews\n",
    "neg_df = processed_df[processed_df.Sentiment == 0]\n",
    "neg_df = neg_df.reset_index(drop = True).truncate(before = 1, after = 50000)\n",
    "\n",
    "# pos reviews\n",
    "pos_df = processed_df[processed_df.Sentiment == 1]\n",
    "pos_df = pos_df.reset_index(drop = True).truncate(before = 1, after = 50000)\n",
    "\n",
    "# combine into one df and randomly shuffle reviews\n",
    "processed_df = concat([pos_df, neg_df], ignore_index = True)\n",
    "processed_df = processed_df.sample(frac = 1).reset_index(drop = True)"
   ]
  },
  {
   "cell_type": "markdown",
   "metadata": {},
   "source": [
    "## Clean text for analysis"
   ]
  },
  {
   "cell_type": "code",
   "execution_count": 9,
   "metadata": {},
   "outputs": [],
   "source": [
    "def remove_stopwords(text, map = STOPWORD_MAP):\n",
    "    '''\n",
    "    Removes stopwords from text\n",
    "    '''\n",
    "    word = text.split()\n",
    "    words_list = [map[word] if word in map else word for word in word]\n",
    "    filtered_text = ' '.join(words_list)\n",
    "    return filtered_text\n",
    "\n",
    "def expand_contractions(text, map = CONTRACTION_MAP):\n",
    "    '''\n",
    "    Expands contractions \n",
    "    '''\n",
    "    word = text.split()\n",
    "    words_list = [map[word] if word in map else word for word in word]\n",
    "    expanded_text = ' '.join(words_list)\n",
    "    return expanded_text\n",
    "\n",
    "\n",
    "def cleaner(df, text):\n",
    "    '''\n",
    "    Applies text cleaning to all items in dataframe\n",
    "    '''\n",
    "    for i in range(0, len(df)):\n",
    "        clean_text = cleantext.clean(df.at[i,\"Text\"], lowercase = True, extra_spaces = True, numbers = True, punct = True, stemming = True)\n",
    "        clean_text = expand_contractions(clean_text)\n",
    "        clean_text = remove_stopwords(clean_text)\n",
    "        text.append(clean_text)\n",
    "    print(len(text))\n",
    "                             "
   ]
  },
  {
   "cell_type": "code",
   "execution_count": 10,
   "metadata": {},
   "outputs": [
    {
     "name": "stdout",
     "output_type": "stream",
     "text": [
      "100000\n"
     ]
    }
   ],
   "source": [
    "processed_text = []\n",
    "\n",
    "cleaner(processed_df, processed_text)"
   ]
  },
  {
   "cell_type": "code",
   "execution_count": 11,
   "metadata": {},
   "outputs": [
    {
     "data": {
      "text/html": [
       "<div>\n",
       "<style scoped>\n",
       "    .dataframe tbody tr th:only-of-type {\n",
       "        vertical-align: middle;\n",
       "    }\n",
       "\n",
       "    .dataframe tbody tr th {\n",
       "        vertical-align: top;\n",
       "    }\n",
       "\n",
       "    .dataframe thead th {\n",
       "        text-align: right;\n",
       "    }\n",
       "</style>\n",
       "<table border=\"1\" class=\"dataframe\">\n",
       "  <thead>\n",
       "    <tr style=\"text-align: right;\">\n",
       "      <th></th>\n",
       "      <th>Sentiment</th>\n",
       "      <th>Edited Text</th>\n",
       "    </tr>\n",
       "  </thead>\n",
       "  <tbody>\n",
       "    <tr>\n",
       "      <th>0</th>\n",
       "      <td>0</td>\n",
       "      <td>realli want    good but   veri bland  tast no...</td>\n",
       "    </tr>\n",
       "    <tr>\n",
       "      <th>1</th>\n",
       "      <td>0</td>\n",
       "      <td>alway   fan  rao marinara sauc    shell   pr...</td>\n",
       "    </tr>\n",
       "    <tr>\n",
       "      <th>2</th>\n",
       "      <td>0</td>\n",
       "      <td>order thi cereal  high hope head  especi give...</td>\n",
       "    </tr>\n",
       "    <tr>\n",
       "      <th>3</th>\n",
       "      <td>0</td>\n",
       "      <td>idea  basic  good one howev  larg papillon al...</td>\n",
       "    </tr>\n",
       "    <tr>\n",
       "      <th>4</th>\n",
       "      <td>0</td>\n",
       "      <td>guess  either love    dont  recent read  cafe...</td>\n",
       "    </tr>\n",
       "  </tbody>\n",
       "</table>\n",
       "</div>"
      ],
      "text/plain": [
       "   Sentiment                                        Edited Text\n",
       "0          0   realli want    good but   veri bland  tast no...\n",
       "1          0    alway   fan  rao marinara sauc    shell   pr...\n",
       "2          0   order thi cereal  high hope head  especi give...\n",
       "3          0   idea  basic  good one howev  larg papillon al...\n",
       "4          0   guess  either love    dont  recent read  cafe..."
      ]
     },
     "execution_count": 11,
     "metadata": {},
     "output_type": "execute_result"
    }
   ],
   "source": [
    "processed_df[\"Edited Text\"] = processed_text\n",
    "processed_df = processed_df.drop(columns = [\"Text\"])\n",
    "processed_df.head(5)"
   ]
  },
  {
   "cell_type": "markdown",
   "metadata": {},
   "source": [
    "## Train and test datasets"
   ]
  },
  {
   "cell_type": "code",
   "execution_count": 12,
   "metadata": {},
   "outputs": [],
   "source": [
    "# create train and test sets\n",
    "X_train, X_test, Y_train, Y_test = train_test_split(processed_df[\"Edited Text\"],\n",
    "                                                   processed_df[\"Sentiment\"],\n",
    "                                                   test_size = 0.25,\n",
    "                                                   random_state = 10)"
   ]
  },
  {
   "cell_type": "code",
   "execution_count": 13,
   "metadata": {},
   "outputs": [],
   "source": [
    "# create TFIDF vector\n",
    "tfidf = TfidfVectorizer(encoding='utf-8',\n",
    "                       ngram_range=(1,2),\n",
    "                       max_df=1.0,\n",
    "                       min_df=10,\n",
    "                       max_features=500,\n",
    "                       norm='l2',\n",
    "                       sublinear_tf=True)"
   ]
  },
  {
   "cell_type": "code",
   "execution_count": 14,
   "metadata": {},
   "outputs": [],
   "source": [
    "train_features = tfidf.fit_transform(X_train).toarray()\n",
    "test_features = tfidf.transform(X_test).toarray()"
   ]
  },
  {
   "cell_type": "code",
   "execution_count": 15,
   "metadata": {},
   "outputs": [],
   "source": [
    "train_labels = Y_train\n",
    "test_labels = Y_test"
   ]
  },
  {
   "cell_type": "markdown",
   "metadata": {},
   "source": [
    "## Save files for analysis"
   ]
  },
  {
   "cell_type": "code",
   "execution_count": 16,
   "metadata": {},
   "outputs": [],
   "source": [
    "with open(\"data/processed_df.pickle\", \"wb\") as data:\n",
    "    pickle.dump(processed_df, data)\n",
    "\n",
    "with open(\"data/X_train.pickle\", \"wb\") as data:\n",
    "    pickle.dump(X_train, data)\n",
    "    \n",
    "with open(\"data/Y_train.pickle\", \"wb\") as data:\n",
    "    pickle.dump(Y_train, data)\n",
    "    \n",
    "with open(\"data/train_features.pickle\", \"wb\") as data:\n",
    "    pickle.dump(train_features, data)\n",
    "    \n",
    "with open(\"data/train_labels.pickle\", \"wb\") as data:\n",
    "    pickle.dump(train_labels, data)\n",
    "\n",
    "with open(\"data/X_test.pickle\", \"wb\") as data:\n",
    "    pickle.dump(X_test, data)\n",
    "\n",
    "with open(\"data/Y_test.pickle\", \"wb\") as data:\n",
    "    pickle.dump(Y_test, data)\n",
    "    \n",
    "with open(\"data/test_features.pickle\", \"wb\") as data:\n",
    "    pickle.dump(test_features, data)\n",
    "\n",
    "with open(\"data/test_labels.pickle\", \"wb\") as data:\n",
    "    pickle.dump(test_labels, data)\n",
    "    \n",
    "with open(\"data/tfidf.pickle\", \"wb\") as data:\n",
    "    pickle.dump(tfidf, data)"
   ]
  }
 ],
 "metadata": {
  "kernelspec": {
   "display_name": "Python 3",
   "language": "python",
   "name": "python3"
  },
  "language_info": {
   "codemirror_mode": {
    "name": "ipython",
    "version": 3
   },
   "file_extension": ".py",
   "mimetype": "text/x-python",
   "name": "python",
   "nbconvert_exporter": "python",
   "pygments_lexer": "ipython3",
   "version": "3.7.4"
  }
 },
 "nbformat": 4,
 "nbformat_minor": 2
}
