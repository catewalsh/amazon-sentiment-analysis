{
 "cells": [
  {
   "cell_type": "code",
   "execution_count": 1,
   "metadata": {},
   "outputs": [],
   "source": [
    "import pandas\n",
    "import pickle\n",
    "import cleantext\n",
    "from sklearn.naive_bayes import MultinomialNB\n",
    "from sklearn.metrics import accuracy_score, confusion_matrix, classification_report"
   ]
  },
  {
   "cell_type": "code",
   "execution_count": 2,
   "metadata": {},
   "outputs": [],
   "source": [
    "with open(\"data/processed_df.pickle\", \"rb\") as data:\n",
    "    df = pickle.load(data)\n",
    "    \n",
    "with open(\"data/train_features.pickle\", \"rb\") as data:\n",
    "    train_features = pickle.load(data)\n",
    "\n",
    "with open(\"data/test_features.pickle\", \"rb\") as data:\n",
    "    test_features = pickle.load(data)\n",
    "\n",
    "with open(\"data/train_labels.pickle\", \"rb\") as data:\n",
    "    train_labels = pickle.load(data)\n",
    "\n",
    "with open(\"data/test_labels.pickle\", \"rb\") as data:\n",
    "    test_labels = pickle.load(data)\n",
    "\n",
    "with open(\"data/tfidf.pickle\", \"rb\") as data:\n",
    "    tfidf = pickle.load(data)"
   ]
  },
  {
   "cell_type": "code",
   "execution_count": 3,
   "metadata": {},
   "outputs": [
    {
     "data": {
      "text/plain": [
       "MultinomialNB(alpha=1.0, class_prior=None, fit_prior=True)"
      ]
     },
     "execution_count": 3,
     "metadata": {},
     "output_type": "execute_result"
    }
   ],
   "source": [
    "mnb_classifier = MultinomialNB()\n",
    "mnb_classifier.fit(train_features, train_labels)"
   ]
  },
  {
   "cell_type": "code",
   "execution_count": 4,
   "metadata": {},
   "outputs": [],
   "source": [
    "mnb_predictor = mnb_classifier.predict(test_features)"
   ]
  },
  {
   "cell_type": "markdown",
   "metadata": {},
   "source": [
    "## Check for accuracy"
   ]
  },
  {
   "cell_type": "code",
   "execution_count": 5,
   "metadata": {},
   "outputs": [
    {
     "name": "stdout",
     "output_type": "stream",
     "text": [
      "0.82984\n"
     ]
    }
   ],
   "source": [
    "train_accuracy = accuracy_score(train_labels, mnb_classifier.predict(train_features))\n",
    "print(train_accuracy)"
   ]
  },
  {
   "cell_type": "code",
   "execution_count": 6,
   "metadata": {},
   "outputs": [
    {
     "name": "stdout",
     "output_type": "stream",
     "text": [
      "0.82824\n"
     ]
    }
   ],
   "source": [
    "test_accuracy = accuracy_score(test_labels, mnb_predictor)\n",
    "print(test_accuracy)"
   ]
  },
  {
   "cell_type": "code",
   "execution_count": 7,
   "metadata": {},
   "outputs": [
    {
     "name": "stdout",
     "output_type": "stream",
     "text": [
      "              precision    recall  f1-score   support\n",
      "\n",
      "           0       0.82      0.83      0.83     12457\n",
      "           1       0.83      0.82      0.83     12543\n",
      "\n",
      "    accuracy                           0.83     25000\n",
      "   macro avg       0.83      0.83      0.83     25000\n",
      "weighted avg       0.83      0.83      0.83     25000\n",
      "\n"
     ]
    }
   ],
   "source": [
    "print(classification_report(test_labels, mnb_predictor))"
   ]
  },
  {
   "cell_type": "code",
   "execution_count": 8,
   "metadata": {},
   "outputs": [
    {
     "name": "stdout",
     "output_type": "stream",
     "text": [
      "[[10394  2063]\n",
      " [ 2231 10312]]\n"
     ]
    }
   ],
   "source": [
    "print(confusion_matrix(test_labels, mnb_predictor))"
   ]
  },
  {
   "cell_type": "markdown",
   "metadata": {},
   "source": [
    "## Test model on reviews not in dataset"
   ]
  },
  {
   "cell_type": "code",
   "execution_count": 9,
   "metadata": {},
   "outputs": [],
   "source": [
    "sentiment_map = {\"Negative\":0, \"Positive\":1}\n",
    "\n",
    "def get_sentiment(text):\n",
    "    sentiment_id = mnb_classifier.predict(tfidf.transform([text]))\n",
    "    return get_name(sentiment_id)\n",
    "\n",
    "def get_name(sentiment_id):\n",
    "    for sentiment, id_ in sentiment_map.items():\n",
    "        if id_ == sentiment_id:\n",
    "            return sentiment\n",
    "    \n",
    "def sentiment_analysis(text):\n",
    "    text = cleantext.clean(text, all = True)\n",
    "    sentiment = get_sentiment(text)\n",
    "    print(f'Sentiment: {sentiment}')"
   ]
  },
  {
   "cell_type": "code",
   "execution_count": 13,
   "metadata": {},
   "outputs": [
    {
     "name": "stdout",
     "output_type": "stream",
     "text": [
      "Sentiment: Negative\n"
     ]
    }
   ],
   "source": [
    "# 1 star review\n",
    "neg_review = \"The candy is awful and they totally scam you on the price. The jar is only the size of a soda can, and looks absolutely nothing like the picture. I will not be buying this again. If your gonna sell something that small make the price around $5.\"\n",
    "\n",
    "sentiment_analysis(neg_review)"
   ]
  },
  {
   "cell_type": "code",
   "execution_count": 11,
   "metadata": {},
   "outputs": [
    {
     "name": "stdout",
     "output_type": "stream",
     "text": [
      "Sentiment: Positive\n"
     ]
    }
   ],
   "source": [
    "# 5 star review\n",
    "pos_review = \"This candy has a very good flavor. It is quite unlike anything commonly available from the supermarket candy aisle.<br /><br />I live in the middle of the corn-belt, so if you have access to a \\\"real\\\" candy store you may not find it so unique.\"\n",
    "\n",
    "sentiment_analysis(pos_review)"
   ]
  }
 ],
 "metadata": {
  "kernelspec": {
   "display_name": "Python 3",
   "language": "python",
   "name": "python3"
  },
  "language_info": {
   "codemirror_mode": {
    "name": "ipython",
    "version": 3
   },
   "file_extension": ".py",
   "mimetype": "text/x-python",
   "name": "python",
   "nbconvert_exporter": "python",
   "pygments_lexer": "ipython3",
   "version": "3.7.4"
  }
 },
 "nbformat": 4,
 "nbformat_minor": 2
}
